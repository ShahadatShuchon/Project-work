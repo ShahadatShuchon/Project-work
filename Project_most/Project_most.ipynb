{
 "cells": [
  {
   "cell_type": "code",
   "execution_count": 20,
   "id": "459e45ab",
   "metadata": {},
   "outputs": [],
   "source": [
    "data <- read.csv(\"30_prcp.csv\")\n",
    "mean_sim <- aggregate(data$sp_avrg, list(data$Month), FUN=mean)\n",
    "mean_obs <- aggregate(data$obs, list(data$Month), FUN=mean)\n",
    "scaling_factor <- data.frame(month=mean_obs$Group.1,obs=mean_obs$x,sim=mean_sim$x)\n",
    "write.csv(scaling_factor,\"scale_30.csv\")"
   ]
  },
  {
   "cell_type": "code",
   "execution_count": null,
   "id": "7355f91a",
   "metadata": {},
   "outputs": [],
   "source": [
    "\n",
    "\n",
    "\n"
   ]
  }
 ],
 "metadata": {
  "kernelspec": {
   "display_name": "R",
   "language": "R",
   "name": "ir"
  },
  "language_info": {
   "codemirror_mode": "r",
   "file_extension": ".r",
   "mimetype": "text/x-r-source",
   "name": "R",
   "pygments_lexer": "r",
   "version": "3.6.1"
  }
 },
 "nbformat": 4,
 "nbformat_minor": 5
}
